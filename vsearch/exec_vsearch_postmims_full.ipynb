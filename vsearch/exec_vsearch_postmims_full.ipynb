{
 "cells": [
  {
   "cell_type": "markdown",
   "metadata": {},
   "source": [
    "              "
   ]
  },
  {
   "cell_type": "markdown",
   "metadata": {},
   "source": [
    "23行目変更:  \n",
    "header = { 'gg':'gg\\_' ,'silva':'silva\\_' ,'rdp':'rdp_' }  \n",
    "→header = { 'gg':'gg','silva':'silva','rdp':'rdp' }に変更し他ファイルと統一"
   ]
  },
  {
   "cell_type": "code",
   "execution_count": 10,
   "metadata": {
    "collapsed": true
   },
   "outputs": [],
   "source": [
    "import os, glob"
   ]
  },
  {
   "cell_type": "code",
   "execution_count": 11,
   "metadata": {
    "collapsed": true
   },
   "outputs": [],
   "source": [
    "#### configurations ####\n",
    "is_taxonomy = 'yes'\n",
    "is_denovopicking = 'yes'\n",
    "is_mapping = 'yes'"
   ]
  },
  {
   "cell_type": "code",
   "execution_count": 12,
   "metadata": {
    "collapsed": true
   },
   "outputs": [],
   "source": [
    "## softwares ##\n",
    "vsearch = '/Users/snakaoka/ws/apps/vsearch/bin/vsearch'\n",
    "## input / output file ##\n",
    "input_dir = '/Users/snakaoka/Desktop/PRJNA000000'\n",
    "output_dir = '/Users/snakaoka/Desktop/PRJNA000000'\n",
    "config_file_name = 'config.csv'"
   ]
  },
  {
   "cell_type": "code",
   "execution_count": 13,
   "metadata": {
    "collapsed": true
   },
   "outputs": [],
   "source": [
    "## reference file ##\n",
    "gg97fasta = '/Users/snakaoka/ws/ref/gg_13_5_otus/rep_set/97_otus.fasta'\n",
    "gg97tax = '/Users/snakaoka/ws/ref/gg_13_5_otus/taxonomy/97_otu_taxonomy.txt'\n",
    "# Silva #\n",
    "silva_fasta = '/Users/snakaoka/ws/ref/silva_128/rep_set/97_otus_16S.fasta'\n",
    "silva_tax = '/Users/snakaoka/ws/ref/silva_128/taxonomy/consensus_taxonomy_all_levels.txt'\n",
    "# RDP #\n",
    "rdp_fasta = '/Users/snakaoka/ws/ref/trainset16_022016.rdp/trainset16_022016.rdp.fasta'\n",
    "rdp_tax = '/Users/snakaoka/ws/ref/trainset16_022016.rdp/trainset16_022016.rdp.tax'\n",
    "\n",
    "fastalist = { 'gg':gg97fasta,'silva':silva_fasta,'rdp':rdp_fasta }\n",
    "taxlist = { 'gg':gg97tax,'silva':silva_tax,'rdp':rdp_tax }\n",
    "header = { 'gg':'gg','silva':'silva','rdp':'rdp' }\n",
    "\n",
    "reflist = ['gg','silva','rdp']\n",
    "ref = reflist[1]"
   ]
  },
  {
   "cell_type": "code",
   "execution_count": 14,
   "metadata": {
    "collapsed": true
   },
   "outputs": [],
   "source": [
    "## parameters ##\n",
    "maxdiffs = 5 #10\n",
    "minmergelen = 1\n",
    "maxmergelen = 600\n",
    "minseqlength = 50\n",
    "maxee_rate = 0.5/100 #%\n",
    "minsize = 2\n",
    "thr = 0.97\n",
    "threadsnum = 8\n",
    "\n",
    "## file names ##\n",
    "filtered_file_name = 'filtered.fasta'\n",
    "centroids_file_name = 'centroids.fasta'\n",
    "denovootu_file_name = header[ref]+'denovootu.txt'\n",
    "hits_file_name = header[ref]+'hits.txt'\n",
    "refotuname_file_name = header[ref]+'otu_name.txt'\n",
    "refotuID_file_name = header[ref]+'otu.txt'"
   ]
  },
  {
   "cell_type": "code",
   "execution_count": 15,
   "metadata": {
    "collapsed": true
   },
   "outputs": [],
   "source": [
    "## filtering ##\n",
    "filtered_file = os.path.join(output_dir,filtered_file_name)\n",
    "centroids_file = os.path.join(output_dir,centroids_file_name)"
   ]
  },
  {
   "cell_type": "code",
   "execution_count": 16,
   "metadata": {
    "collapsed": true
   },
   "outputs": [],
   "source": [
    "## Assign taxonomy ##\n",
    "hits_file = os.path.join(output_dir,hits_file_name)\n",
    "if is_taxonomy=='yes':\n",
    "    cmd = '%s --usearch_global %s --db %s --strand both --id %s --threads %s --userfields \\\"query+target+id\\\" --userout %s' % (vsearch,centroids_file,fastalist[ref],str(thr),str(threadsnum),hits_file)\n",
    "    os.system(cmd)\n",
    "else:\n",
    "    msg = 'Skip taxonomy assignment.'\n",
    "    print( msg )"
   ]
  },
  {
   "cell_type": "code",
   "execution_count": 17,
   "metadata": {
    "collapsed": true
   },
   "outputs": [],
   "source": [
    "## de novo picking ##\n",
    "denovootu_file = os.path.join(output_dir,denovootu_file_name)\n",
    "if is_denovopicking=='yes':\n",
    "    cmd = '%s --usearch_global %s --db %s --strand both --id %s --threads %s --otutabout %s' % (vsearch,filtered_file,centroids_file,str(thr),str(threadsnum),denovootu_file)\n",
    "    os.system(cmd)\n",
    "else:\n",
    "    msg = 'Skip denovo picking.'\n",
    "    print( msg )"
   ]
  },
  {
   "cell_type": "code",
   "execution_count": 18,
   "metadata": {
    "collapsed": true
   },
   "outputs": [],
   "source": [
    "## Mapping to GreenGene database ##\n",
    "if is_mapping=='yes':\n",
    "    refid2refname = {}\n",
    "    frref = open(taxlist[ref],'r').readlines()\n",
    "    for line in frref:\n",
    "        line = line.replace('\\n','')\n",
    "        tmp = line.split('\\t')\n",
    "        refid2refname[tmp[0]] = tmp[1]\n",
    "    ## make a mapping from \"user defined sequence ID\" to \"greengene ID\"\n",
    "    myid2refid = {}\n",
    "    myid2refname = {}\n",
    "    frh = open(hits_file,'r').readlines()\n",
    "    for line in frh:\n",
    "        tmp = line.split('\\t') # refID: tmp[1]\n",
    "        refid = tmp[1]\n",
    "        refname = refid2refname[refid]\n",
    "        myids = tmp[0].split(';') # myID : tmp[0]\n",
    "        myid2refid[myids[0]] = refid\n",
    "        myid2refname[myids[0]] = refname\n",
    "\n",
    "    frd = open(denovootu_file,'r').readlines()\n",
    "    header = frd[0] # restore header information\n",
    "    frd.pop(0) # remove the header line\n",
    "    ## taxonomy name version ##\n",
    "    refotu_name_file = os.path.join(output_dir,refotuname_file_name)\n",
    "    fw = open(refotu_name_file,'w')\n",
    "    fw.write(header)\n",
    "    for line in frd:\n",
    "        tmp = line.split('\\t') # tmp[0]: myID\n",
    "        try:\n",
    "            tmp[0] = myid2refname[tmp[0]]\n",
    "            fw.write('\\t'.join(tmp))\n",
    "        except:\n",
    "            continue\n",
    "    fw.close()\n",
    "    ## taxonomy ID version ##\n",
    "    refotu_ID_file = os.path.join(output_dir,refotuID_file_name)\n",
    "    fw = open(refotu_ID_file,'w')\n",
    "    fw.write(header)\n",
    "    for line in frd:\n",
    "        tmp = line.split('\\t') # tmp[0]: myID\n",
    "        try:\n",
    "            tmp[0] = myid2refid[tmp[0]]\n",
    "            fw.write('\\t'.join(tmp))\n",
    "        except:\n",
    "            continue\n",
    "    fw.close()\n",
    "else:\n",
    "    msg = 'Skip taxonomy mapping.'\n",
    "    print( msg )\n"
   ]
  },
  {
   "cell_type": "code",
   "execution_count": null,
   "metadata": {
    "collapsed": true
   },
   "outputs": [],
   "source": []
  }
 ],
 "metadata": {
  "kernelspec": {
   "display_name": "Python 3",
   "language": "python",
   "name": "python3"
  },
  "language_info": {
   "codemirror_mode": {
    "name": "ipython",
    "version": 3
   },
   "file_extension": ".py",
   "mimetype": "text/x-python",
   "name": "python",
   "nbconvert_exporter": "python",
   "pygments_lexer": "ipython3",
   "version": "3.6.2"
  }
 },
 "nbformat": 4,
 "nbformat_minor": 2
}
