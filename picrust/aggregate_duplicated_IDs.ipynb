{
 "cells": [
  {
   "cell_type": "markdown",
   "metadata": {},
   "source": [
    "anacondaからpythonを入手した場合以下が必要（KernelからRの設定方法）：  \n",
    "conda install -c r r-modeltools  \n",
    "conda install -c r r-mvtnorm  \n",
    "conda install -c r r-coin "
   ]
  },
  {
   "cell_type": "markdown",
   "metadata": {},
   "source": [
    "3行目 ref <- reflist[1]　よりlist選択可能に"
   ]
  },
  {
   "cell_type": "code",
   "execution_count": 1,
   "metadata": {
    "collapsed": true
   },
   "outputs": [],
   "source": [
    "input_dir <- \"/Volumes/bkup_vol001/tanamai/16S_gg/PMID20534435/PMID20534435\"\n",
    "reflist <- list(\"gg\",\"silva\",\"rdp\")\n",
    "ref <- reflist[1]"
   ]
  },
  {
   "cell_type": "code",
   "execution_count": 2,
   "metadata": {
    "collapsed": true
   },
   "outputs": [],
   "source": [
    "## ID ##\n",
    "rfn <- paste(input_dir,\"/\",paste(ref, \"otu.txt\", sep = \"\"),sep=\"\")\n",
    "df <- read.table(rfn,sep=\"\\t\",comment.char=\"\",header=TRUE)\n",
    "header <- colnames(df)\n",
    "header[1] <- \"OTU_ID\"\n",
    "colnames(df) <- header\n",
    "dfu <- aggregate(x=df[,-1],by=list(OTU_ID=df$OTU_ID),FUN=sum)\n",
    "sfn <- paste(input_dir,\"/\",paste(ref, \"otu_unique.txt\", sep = \"\"),sep=\"\")\n",
    "write.table(dfu,sfn,sep=\"\\t\",row.names=F,quote=F)"
   ]
  },
  {
   "cell_type": "code",
   "execution_count": 3,
   "metadata": {
    "collapsed": true
   },
   "outputs": [],
   "source": [
    "## name ##\n",
    "rfn <- paste(input_dir,\"/\",paste(ref, \"otu_name.txt\", sep = \"\"),sep=\"\")\n",
    "df <- read.table(rfn,sep=\"\\t\",comment.char=\"\",header=TRUE)\n",
    "header <- colnames(df)\n",
    "header[1] <- \"OTU_ID\"\n",
    "colnames(df) <- header\n",
    "dfu <- aggregate(x=df[,-1],by=list(OTU_ID=df$OTU_ID),FUN=sum)\n",
    "sfn <- paste(input_dir,\"/\",paste(ref, \"otu_name_unique.txt\", sep = \"\"),sep=\"\")\n",
    "write.table(dfu,sfn,sep=\"\\t\",row.names=F,quote=F)"
   ]
  },
  {
   "cell_type": "code",
   "execution_count": null,
   "metadata": {
    "collapsed": true
   },
   "outputs": [],
   "source": []
  }
 ],
 "metadata": {
  "kernelspec": {
   "display_name": "R",
   "language": "R",
   "name": "ir"
  },
  "language_info": {
   "codemirror_mode": "r",
   "file_extension": ".r",
   "mimetype": "text/x-r-source",
   "name": "R",
   "pygments_lexer": "r",
   "version": "3.3.1"
  }
 },
 "nbformat": 4,
 "nbformat_minor": 2
}
